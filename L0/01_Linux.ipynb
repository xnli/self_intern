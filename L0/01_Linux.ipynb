{
 "cells": [
  {
   "cell_type": "markdown",
   "metadata": {},
   "source": [
    "# 1. InternStudio 开发机\n",
    "\n",
    "InternStudio 是大模型时代下的云端算力平台。\n",
    "\n",
    "* 基于 InternLM 组织下的诸多算法库支持，为开发者提供开箱即用的大语言模型微调环境、工具、数据集\n",
    "* 完美兼容 🤗 HugginFace 开源生态。\n",
    "\n",
    "访问地址：https://studio.intern-ai.org.cn/\n",
    "\n",
    "详细官方教程：https://raw.githubusercontent.com/InternLM/Tutorial/camp3/docs/L0/Linux/readme.md\n",
    "\n",
    "本文记录实践过程的关键步骤"
   ]
  },
  {
   "cell_type": "markdown",
   "metadata": {},
   "source": [
    "# 1.1 关键步骤\n",
    "\n",
    "\n",
    "* 创建开发机\n",
    "\n",
    "* 配置ssh,可以免密登录\n",
    "\n",
    "* 基于Vscode Remote-ssh插件来远程开发机\n",
    "\n",
    "* 创建一个自己的虚拟环境，默认会创建在root/下,即使开发机启停不会导致创建的内容清空\n",
    "\n",
    "* VScode提供了自动端口映射的功能，我们不需要手动配置\n",
    "\n",
    "\n",
    "效果图：\n",
    "\n",
    "![image](./sources/2024-09-17%2012-14-10屏幕截图.png)\n",
    "\n",
    "\n",
    "![image](./sources/2024-09-17%2012-16-09屏幕截图.png)\n",
    "\n",
    "\n",
    "![image](./sources/2024-09-17%2012-25-48屏幕截图.png)\n",
    "\n",
    "\n",
    "![image](./sources/2024-09-17%2012-28-38屏幕截图.png)\n"
   ]
  },
  {
   "cell_type": "markdown",
   "metadata": {},
   "source": [
    "![image1](https://private-user-images.githubusercontent.com/110531742/346817365-825084d6-6018-4d1b-9f32-92f0abda9e9c.png?jwt=eyJhbGciOiJIUzI1NiIsInR5cCI6IkpXVCJ9.eyJpc3MiOiJnaXRodWIuY29tIiwiYXVkIjoicmF3LmdpdGh1YnVzZXJjb250ZW50LmNvbSIsImtleSI6ImtleTUiLCJleHAiOjE3MjY1NDUyOTEsIm5iZiI6MTcyNjU0NDk5MSwicGF0aCI6Ii8xMTA1MzE3NDIvMzQ2ODE3MzY1LTgyNTA4NGQ2LTYwMTgtNGQxYi05ZjMyLTkyZjBhYmRhOWU5Yy5wbmc_WC1BbXotQWxnb3JpdGhtPUFXUzQtSE1BQy1TSEEyNTYmWC1BbXotQ3JlZGVudGlhbD1BS0lBVkNPRFlMU0E1M1BRSzRaQSUyRjIwMjQwOTE3JTJGdXMtZWFzdC0xJTJGczMlMkZhd3M0X3JlcXVlc3QmWC1BbXotRGF0ZT0yMDI0MDkxN1QwMzQ5NTFaJlgtQW16LUV4cGlyZXM9MzAwJlgtQW16LVNpZ25hdHVyZT03MmY3NTlmOTM3MzJmMjAyMjJkYTA5NWEzZDlhNGQ1YjQ4MmIxODRkNDJjN2E1YWE0NWQ5ZWYyZGVhODM3MGNmJlgtQW16LVNpZ25lZEhlYWRlcnM9aG9zdCZhY3Rvcl9pZD0wJmtleV9pZD0wJnJlcG9faWQ9MCJ9.rK5r7Yk27SUn6PzadqpEVK3G-6h9gnZ52FFZQlJ7TdU)"
   ]
  },
  {
   "cell_type": "markdown",
   "metadata": {},
   "source": []
  },
  {
   "cell_type": "markdown",
   "metadata": {},
   "source": []
  }
 ],
 "metadata": {
  "language_info": {
   "name": "python"
  }
 },
 "nbformat": 4,
 "nbformat_minor": 2
}
