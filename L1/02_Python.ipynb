{
 "cells": [
  {
   "cell_type": "markdown",
   "metadata": {},
   "source": [
    "# 1. debug Python File\n",
    "\n",
    "1. 新建python文件后我们如果想要运行，首先需要选择解释器。单击右下角的select interpreter，vsconde会自动扫描开发机上所有的python环境中的解释器。\n",
    "\n",
    "2. 在代码行号旁边点击，可以添加一个红点，这就是断点（如果不能添加红点需要检查一下python extension是否已经正确安装）\n",
    "\n",
    "3. 点击VSCode侧边栏的“Run and Debug”（运行和调试），然后点击“Run and Debug”（开始调试）按钮，或者按F5键。\n",
    "\n",
    "4. 单击后会需要选择debugger和debug配置文件，我们单独debug一个python文件只要选择Python File就行。然后你的代码会在达到第一个断点之前运行，在第一个断点处停下来。\n",
    "\n",
    "5. 当代码在断点处停下来时，你可以查看和修改变量的值。在“Run and Debug”侧边栏的“Variables”（变量）部分，你可以看到当前作用域内的所有变量及其值。"
   ]
  },
  {
   "cell_type": "markdown",
   "metadata": {},
   "source": [
    "## 重要说明\n",
    "\n",
    "![images](https://github.com/InternLM/Tutorial/assets/32959436/a8c7d485-4d86-42ce-b185-e06499595423)\n",
    "\n",
    "debug面板各按钮功能介绍：\n",
    "\n",
    "* `1`: continue: 继续运行到下一个断点\n",
    "\n",
    "* `2`: step over：跳过，可以理解为运行当前行代码，不进入具体的函数或者方法。\n",
    "\n",
    "* `3`: step into: 进入函数或者方法。如果当行代码存在函数或者方法时，进入代码该函数或者方法。如果当行代码没有函数或者方法，则等价于step over。\n",
    "\n",
    "* `4`: step out：退出函数或者方法, 返回上一层。\n",
    "\n",
    "* `5`: restart：重新启动debug\n",
    "\n",
    "* `6`: stop：终止debug"
   ]
  },
  {
   "cell_type": "markdown",
   "metadata": {},
   "source": [
    "# debug 命令行调试\n",
    "\n",
    "很多时候我们要debug的不止是一个简单的python文件，而是很多参数，参数中不止会有简单的值还可能有错综复杂的文件关系,甚至debug一整个项目。这种情况下，直接使用命令行来发起debug会是一个更好的选择。\n",
    "\n",
    "\n",
    "1. 点击VSCode侧边栏的“Run and Debug”（运行和调试)，单击\"create a lauch.json file\"\n",
    "2. 选择debugger时选择python debuger。选择debug config时选择remote attach。\n",
    "\n",
    "![images](./sources/2024-09-17%2018-08-48屏幕截图.png)\n",
    "\n",
    "3. pip install debugpy，安装debugpy。\n",
    "4. 启动debugpy 命令行。命令格式：\n",
    "\n",
    "```\n",
    "python -m debugpy\n",
    "    --listen | --connect\n",
    "    [<host>:]<port>\n",
    "    [--wait-for-client]\n",
    "    [--configure-<name> <value>]...\n",
    "    [--log-to <path>] [--log-to-stderr]\n",
    "    <filename> | -m <module> | -c <code> | --pid <pid>\n",
    "    [<arg>]...\n",
    "```\n",
    "具体含义：\n",
    "\n",
    "* --listen or --connect\t[<host>:]<port>\t必填。指定调试适配器服务器等待传入连接 (--listen) 或与正在等待传入连接的客户端连接 (--connect) 的主机地址和端口。这与 VS Code 调试配置中使用的地址相同。默认情况下，主机地址为localhost (127.0.0.1)。\n",
    "\n",
    "* --wait-for-client\t没有任何\t可选。指定在有来自调试服务器的连接之前不应运行代码。此设置允许您从代码的第一行进行调试。\n",
    "\n",
    "* --log-to\t<path>\t可选。指定用于保存日志的现有目录的路径。\n",
    "\n",
    "* --log-to-stderr\t没有任何\t可选。启用 debugpy 将日志直接写入 stderr。\n",
    "\n",
    "* --pid\t<pid>\t可选。指定已运行的进程以将调试服务器注入其中。\n",
    "\n",
    "* --configure-<name>\t<value>\t可选。设置客户端连接之前调试服务器必须知道的调试属性。这些属性可以直接在启动配置中使用，但必须以这种方式设置附加配置。例如，如果您不希望调试服务器自动将自身注入到您所附加的进程创建的子进程中，请使用--configure-subProcess false.\n",
    "\n",
    "\n",
    "具体执行命令是\n",
    "```\n",
    "python -m debugpy --listen 0.0.0.0:5678 --wait-for-client ./L1/python_debug_tutorial.py\n",
    "```\n",
    "\n",
    "然后在vscode 的run and debug界面启动debug。\n",
    "\n",
    "总结下来是一句话：先在终端中发起debug server，然后再去vscode debug页面单击一下绿色箭头开启debug。\n",
    "\n",
    "![images](./sources/2024-09-17%2018-34-51屏幕截图.png)\n",
    "\n",
    "结果：\n",
    "\n",
    "![images](./sources/2024-09-17%2018-35-56屏幕截图.png)"
   ]
  },
  {
   "cell_type": "markdown",
   "metadata": {},
   "source": []
  },
  {
   "cell_type": "markdown",
   "metadata": {},
   "source": []
  }
 ],
 "metadata": {
  "language_info": {
   "name": "python"
  }
 },
 "nbformat": 4,
 "nbformat_minor": 2
}
